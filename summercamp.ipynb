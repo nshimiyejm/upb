{
 "cells": [
  {
   "cell_type": "markdown",
   "metadata": {},
   "source": [
    "## Useful Websites \n",
    "- Survey - https://forms.gle/5FTqVZVta4o3m4xx5\n", 
    "- W3School - https://www.w3schools.com\n",
    "- Python - https://www.python.org/\n",
    "- Bootstrap - https://getbootstrap.com/\n",
    "- Django - https://www.djangoproject.com/\n",
    "- JQuery - http://jquery.com/ \n",
    "- Popper - http://popper.js.org"
   ]
  },
  {
   "cell_type": "markdown",
   "metadata": {},
   "source": [
    "## Definitions: \n",
    "- __*<font color=blue>Algorithm</font>*__ : `A strategy for solving a problem (informal definition)`\n",
    "    - Example: sorting, searching, ...\n",
    "- __*<font color=blue>Data Structure</font>*__: `Specialized format of organizing and storing data`\n",
    "    - Example: list, array, dictionary, arraylist, ...\n",
    "- __*<font color=blue>Computer Science</font>*__ : `A branch of science that deals with the theory of computation or the design of computers`\n",
    "- __*<font color=blue>Variable</font>*__ : `Something that changes`\n",
    "    - Example: __name__ is avariable because people have different names\n",
    "        - name = Joe \n",
    "        - name = Betty \n",
    "- __*<font color=blue>Function</font>*__ : `Is a block of code which only runs when it is called`\n"
   ]
  },
  {
   "cell_type": "markdown",
   "metadata": {},
   "source": [
    "<hr>\n",
    "\n",
    "## Special Characters: \n",
    "<hr>\n",
    "<style>\n",
    "<!-- table{\n",
    "\twidth: 100%; \n",
    "    text-align: left; \n",
    "    \n",
    "} -->\n",
    "\n",
    "<!-- td, th {\n",
    "\tboder: 1px solid #dddddd; \n",
    "    text-align: left; \n",
    "    padding: 8px; \n",
    "}\n",
    " -->\n",
    "<!-- tr:nth-child(even){\n",
    "\tbackground-color: #dddddd\n",
    "} -->\n",
    "</style>\n",
    "\n",
    "<table class=\"table\"><font>\n",
    "  <tr>\n",
    "    <th>Character</th>\n",
    "    <th>Name</th> \n",
    "    <th>Description</th>\n",
    "  </tr>\n",
    "  <tr>\n",
    "    <td>#</td>\n",
    "    <td>Pound</td>\n",
    "    <td>Marks the beginning of a comment</td>\n",
    "  </tr>\n",
    "  <tr>\n",
    "    <td>\" \" or ' '</td>\n",
    "    <td>Double and or single closing quotation marks</td>\n",
    "    <td>Encloses a string of characters, such as a message that is to be printed on the screen. </td>\n",
    "  </tr>\n",
    "  <tr>\n",
    "    <td>\\n</td>\n",
    "    <td>Newline</td>\n",
    "    <td>Causes the cursor to go to the next line for subsequent printing</td>\n",
    "  </tr>\n",
    "  <tr>\n",
    "    <td>\\t</td>\n",
    "    <td>Horizontal tab</td>\n",
    "    <td>Causes the cursor to skip over to the next tab stop</td>\n",
    "  </tr>\n",
    "\n",
    "</font></table>"
   ]
  },
  {
   "cell_type": "markdown",
   "metadata": {},
   "source": [
    "<hr>\n",
    "\n",
    "## Arithmetic Operators \n",
    "<hr>\n",
    "<style>\n",
    "table{\n",
    "\twidth: 100%; \n",
    "    text-align: left; \n",
    "}\n",
    "td, th {\n",
    "\tboder: 1px solid #dddddd; \n",
    "    text-align: left; \n",
    "    padding: 8px; \n",
    "}\n",
    "\n",
    "tr:nth-child(even){\n",
    "\tbackground-color: #dddddd\n",
    "}\n",
    "</style>\n",
    "\n",
    "<table>\n",
    "  <tr>\n",
    "    <th>Operator</th>\n",
    "    <th>Meaning</th> \n",
    "    <th>Example</th>\n",
    "  </tr>\n",
    "  <tr>\n",
    "    <td>+</td>\n",
    "    <td>Addition</td>\n",
    "    <td>total = cost + tax</td>\n",
    "  </tr>\n",
    "  <tr>\n",
    "    <td>-</td>\n",
    "    <td>Subtraction</td>\n",
    "    <td>cost = total - tax</td>\n",
    "  </tr>\n",
    "  <tr>\n",
    "    <td>*</td>\n",
    "    <td>MultiplicationSubtraction</td>\n",
    "    <td>tax = cost * rate</td>\n",
    "  </tr>\n",
    "  <tr>\n",
    "    <td>/</td>\n",
    "    <td>Division</td>\n",
    "    <td>SalePrice = originalPrice / 2</td>\n",
    "  </tr>\n",
    "  <tr>\n",
    "    <td>%</td>\n",
    "    <td>Modulus</td>\n",
    "    <td>remainder = value % 3</td>\n",
    "  </tr>\n",
    "\n",
    "</table>"
   ]
  },
  {
   "cell_type": "markdown",
   "metadata": {},
   "source": [
    "<hr> \n",
    "\n",
    "## Relational Operators \n",
    "<hr> \n",
    "<style>\n",
    "table{\n",
    "\twidth: 100%; \n",
    "    text-align: left; \n",
    "}\n",
    "td, th {\n",
    "\tboder: 1px solid #dddddd; \n",
    "    text-align: left; \n",
    "    padding: 8px; \n",
    "}\n",
    "\n",
    "tr:nth-child(even){\n",
    "\tbackground-color: #dddddd\n",
    "}\n",
    "</style>\n",
    "\n",
    "<table>\n",
    "  <tr>\n",
    "    <th>Relational Operator</th>\n",
    "    <th>Meaning</th> \n",
    "    <th>Example</th>\n",
    "  </tr>\n",
    "  <tr>\n",
    "    <td>></td>\n",
    "    <td>Greater than</td>\n",
    "    <td>x > y</td>\n",
    "  </tr>\n",
    "  <tr>\n",
    "    <td><</td>\n",
    "    <td>Less than</td>\n",
    "    <td>x < y</td>\n",
    "  </tr>\n",
    "\n",
    "  <tr>\n",
    "    <td>>=</td>\n",
    "    <td>Greater than or equal to</td>\n",
    "    <td>x >= y</td>\n",
    "  </tr>\n",
    "  <tr>\n",
    "    <td> < = </td>\n",
    "    <td>Less than or equal to</td>\n",
    "    <td>x < = y</td>\n",
    "  </tr>\n",
    "  <tr>\n",
    "    <td>==</td>\n",
    "    <td>Equal</td>\n",
    "    <td>x == y</td>\n",
    "  </tr>\n",
    "  <tr>\n",
    "    <td>!=</td>\n",
    "    <td>Not equal to</td>\n",
    "    <td>x != y</td>\n",
    "  </tr>\n",
    "</table>\n",
    "\n",
    "\n"
   ]
  },
  {
   "cell_type": "markdown",
   "metadata": {},
   "source": [
    "<hr>\n",
    "\n",
    "## Examples\n",
    "<hr>"
   ]
  },
  {
   "cell_type": "code",
   "execution_count": 7,
   "metadata": {},
   "outputs": [
    {
     "data": {
      "text/plain": [
       "11"
      ]
     },
     "execution_count": 7,
     "metadata": {},
     "output_type": "execute_result"
    }
   ],
   "source": [
    "5 + 6 "
   ]
  },
  {
   "cell_type": "code",
   "execution_count": 10,
   "metadata": {},
   "outputs": [
    {
     "data": {
      "text/plain": [
       "16"
      ]
     },
     "execution_count": 10,
     "metadata": {},
     "output_type": "execute_result"
    }
   ],
   "source": [
    "x = 10\n",
    "y = 6\n",
    "x + y"
   ]
  },
  {
   "cell_type": "code",
   "execution_count": 12,
   "metadata": {},
   "outputs": [
    {
     "data": {
      "text/plain": [
       "56"
      ]
     },
     "execution_count": 12,
     "metadata": {},
     "output_type": "execute_result"
    }
   ],
   "source": [
    "x * 5 + y"
   ]
  },
  {
   "cell_type": "markdown",
   "metadata": {},
   "source": [
    "#### Print Statement  "
   ]
  },
  {
   "cell_type": "code",
   "execution_count": 14,
   "metadata": {},
   "outputs": [
    {
     "name": "stdout",
     "output_type": "stream",
     "text": [
      "Mark\n"
     ]
    }
   ],
   "source": [
    "name = 'Mark'\n",
    "print(name)"
   ]
  },
  {
   "cell_type": "markdown",
   "metadata": {},
   "source": [
    "#### For loop "
   ]
  },
  {
   "cell_type": "code",
   "execution_count": 15,
   "metadata": {},
   "outputs": [
    {
     "name": "stdout",
     "output_type": "stream",
     "text": [
      "1\n",
      "2\n",
      "3\n",
      "4\n",
      "5\n",
      "6\n",
      "7\n",
      "8\n",
      "9\n"
     ]
    }
   ],
   "source": [
    "# for loop that prints 1 to 9 \n",
    "for x in range(1, 10): \n",
    "    print(x)"
   ]
  },
  {
   "cell_type": "code",
   "execution_count": 16,
   "metadata": {},
   "outputs": [
    {
     "data": {
      "text/plain": [
       "5"
      ]
     },
     "execution_count": 16,
     "metadata": {},
     "output_type": "execute_result"
    }
   ],
   "source": [
    "# for loop that prints a random number \n",
    "import random \n",
    "random.randint(1,6)"
   ]
  },
  {
   "cell_type": "code",
   "execution_count": 17,
   "metadata": {},
   "outputs": [
    {
     "name": "stdout",
     "output_type": "stream",
     "text": [
      "4\n",
      "6\n",
      "3\n",
      "5\n",
      "6\n",
      "1\n",
      "2\n",
      "4\n",
      "1\n",
      "2\n"
     ]
    }
   ],
   "source": [
    "# Print 11 random numbers \n",
    "import random \n",
    "for x in range(1, 11): \n",
    "    random_number = random.randint(1, 6)\n",
    "    print(random_number)"
   ]
  },
  {
   "cell_type": "code",
   "execution_count": 23,
   "metadata": {},
   "outputs": [
    {
     "name": "stdout",
     "output_type": "stream",
     "text": [
      "3\n",
      "7\n",
      "Seven Thrown!\n",
      "7\n",
      "Seven Thrown!\n",
      "6\n",
      "11\n",
      "Eleven Thrown!\n",
      "2\n",
      "Double Thrown!\n",
      "4\n",
      "7\n",
      "Seven Thrown!\n",
      "12\n",
      "Double Thrown!\n",
      "3\n"
     ]
    }
   ],
   "source": [
    "# Simulate two dices using if statements \n",
    "import random \n",
    "import time\n",
    "\n",
    "for x in range(1, 11): \n",
    "    time.sleep(1)    \n",
    "    throw_1 = random.randint(1, 6)\n",
    "    throw_2 = random.randint(1, 6)\n",
    "    \n",
    "\n",
    "    \n",
    "    total = throw_1 + throw_2\n",
    "    print(total)\n",
    "    \n",
    "    if total == 7: \n",
    "        print('Seven Thrown!')\n",
    "    if total == 11: \n",
    "        print('Eleven Thrown!')\n",
    "    if throw_1 == throw_2:\n",
    "        print('Double Thrown!')\n",
    "    "
   ]
  },
  {
   "cell_type": "markdown",
   "metadata": {},
   "source": [
    "<hr>\n",
    "\n",
    "#### Data Structure\n",
    "<hr>"
   ]
  },
  {
   "cell_type": "code",
   "execution_count": 25,
   "metadata": {},
   "outputs": [
    {
     "name": "stdout",
     "output_type": "stream",
     "text": [
      "[123, 34, 55, 321, 9]\n"
     ]
    }
   ],
   "source": [
    "# Example of a List \n",
    "numbers = [123, 34, 55, 321, 9]\n",
    "print(numbers)"
   ]
  },
  {
   "cell_type": "code",
   "execution_count": 27,
   "metadata": {},
   "outputs": [
    {
     "name": "stdout",
     "output_type": "stream",
     "text": [
      "123\n",
      "34\n",
      "55\n",
      "321\n",
      "9\n"
     ]
    }
   ],
   "source": [
    "for i in numbers:\n",
    "    print(i)"
   ]
  },
  {
   "cell_type": "code",
   "execution_count": 28,
   "metadata": {},
   "outputs": [
    {
     "name": "stdout",
     "output_type": "stream",
     "text": [
      "{1: 'John', 2: 'Patrick', 3: 'Mike', 4: 'Rich'}\n"
     ]
    }
   ],
   "source": [
    "# Example of a dictionary \n",
    "data  = {1: 'John', 2: 'Patrick', 3: 'Mike', 4: 'Rich'}\n",
    "print(data)"
   ]
  },
  {
   "cell_type": "code",
   "execution_count": 37,
   "metadata": {},
   "outputs": [
    {
     "name": "stdout",
     "output_type": "stream",
     "text": [
      "John\n",
      "Patrick\n",
      "Mike\n",
      "Rich\n"
     ]
    }
   ],
   "source": [
    "for key, value in data.items():\n",
    "    print(data[key])"
   ]
  }
 ],
 "metadata": {
  "kernelspec": {
   "display_name": "Python 3",
   "language": "python",
   "name": "python3"
  },
  "language_info": {
   "codemirror_mode": {
    "name": "ipython",
    "version": 3
   },
   "file_extension": ".py",
   "mimetype": "text/x-python",
   "name": "python",
   "nbconvert_exporter": "python",
   "pygments_lexer": "ipython3",
   "version": "3.6.8"
  }
 },
 "nbformat": 4,
 "nbformat_minor": 2
}
